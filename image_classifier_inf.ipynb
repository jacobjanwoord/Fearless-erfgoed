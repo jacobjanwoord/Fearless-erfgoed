{
 "cells": [
  {
   "cell_type": "code",
   "execution_count": 2,
   "metadata": {},
   "outputs": [],
   "source": [
    "from transformers import AutoModelForImageClassification, AutoImageProcessor\n",
    "\n",
    "repo_name = \"JacobJan/swin-tiny-patch4-window7-224-finetuned-eurosat\"\n",
    "\n",
    "image_processor = AutoImageProcessor.from_pretrained(repo_name)\n",
    "model = AutoModelForImageClassification.from_pretrained(repo_name)"
   ]
  },
  {
   "cell_type": "code",
   "execution_count": 7,
   "metadata": {},
   "outputs": [],
   "source": [
    "# prepare image for the model\n",
    "from PIL import Image\n",
    "image = Image.open('test_dataset_gray/dressoir_mccp.jpg')\n",
    "# encoding = image_processor(image.convert(\"RGB\"), return_tensors=\"pt\")\n",
    "# print(encoding.pixel_values.shape)"
   ]
  },
  {
   "cell_type": "code",
   "execution_count": 4,
   "metadata": {},
   "outputs": [],
   "source": [
    "import torch\n",
    "\n",
    "# forward pass\n",
    "with torch.no_grad():\n",
    "    outputs = model(**encoding)\n",
    "    logits = outputs.logits"
   ]
  },
  {
   "cell_type": "code",
   "execution_count": 5,
   "metadata": {},
   "outputs": [
    {
     "name": "stdout",
     "output_type": "stream",
     "text": [
      "Predicted class: 0\n"
     ]
    }
   ],
   "source": [
    "predicted_class_idx = logits.argmax(-1).item()\n",
    "print(\"Predicted class:\", model.config.id2label[predicted_class_idx])"
   ]
  },
  {
   "cell_type": "code",
   "execution_count": 41,
   "metadata": {},
   "outputs": [],
   "source": [
    "from torchvision.io import read_image\n",
    "from torchvision.models import resnet50, ResNet50_Weights\n",
    "import os\n",
    "import csv\n",
    "import cv2\n",
    "\n",
    "directory = os.fsencode('scraped_images')\n",
    "\n",
    "# Step 1: Initialize model with the best available weights\n",
    "weights = ResNet50_Weights.DEFAULT\n",
    "model = resnet50(weights=weights)\n",
    "model.eval()\n",
    "\n",
    "# Step 2: Initialize the inference transforms\n",
    "preprocess = weights.transforms()\n",
    "labeled_list = [[]]\n",
    "\n",
    "for file in os.listdir('scraped_images_grayscaled_big'):\n",
    "    # Step 3: Apply inference preprocessing transforms\n",
    "    # image = cv2.imread(os.path.join('scraped_images', file))\n",
    "    # if image.shape[0] == 1:\n",
    "    #     image = cv2.cvtColor(image,cv2.COLOR_GRAY2RGB)\n",
    "    # image = read_image(os.path.join('scraped_images', file)).convert('RGB')\n",
    "    image = Image.open(os.path.join('scraped_images_grayscaled_big', file)).convert('RGB')\n",
    "    batch = preprocess(image).unsqueeze(0)\n",
    "\n",
    "    # Step 4: Use the model and print the predicted category\n",
    "    prediction = model(batch).squeeze(0).softmax(0)\n",
    "    class_id = prediction.argmax().item()\n",
    "    score = prediction[class_id].item()\n",
    "    category_name = weights.meta[\"categories\"][class_id]\n",
    "    labeled_list += [file, category_name]\n",
    "\n",
    "with open('image_categories.csv', 'w', newline='') as f:\n",
    "        writer = csv.writer(f)\n",
    "        writer.writerows(labeled_list)"
   ]
  },
  {
   "cell_type": "code",
   "execution_count": 42,
   "metadata": {},
   "outputs": [
    {
     "name": "stdout",
     "output_type": "stream",
     "text": [
      "altar\n",
      "['00100_524_id=cp168205_badv.jpg', 'airship']\n"
     ]
    }
   ],
   "source": [
    "import pandas as pd\n",
    "print(labeled_list[2])\n",
    "\n",
    "combined_list = []\n",
    "\n",
    "# Iterate through the list starting from the second item, in steps of 2\n",
    "for i in range(1, len(labeled_list) - 1, 2):\n",
    "    combined_list.append([labeled_list[i], labeled_list[i + 1]])\n",
    "\n",
    "# If the list length is odd, we need to handle the last item\n",
    "if len(labeled_list) % 2 == 0:\n",
    "    combined_list.append([labeled_list[-2], labeled_list[-1]])\n",
    "else:\n",
    "    combined_list.append([labeled_list[-3], labeled_list[-2]])\n",
    "\n",
    "print(combined_list[1])\n",
    "my_df = pd.DataFrame(combined_list)\n",
    "\n",
    "my_df.to_csv('my_csv.csv', index=False, header=False)"
   ]
  }
 ],
 "metadata": {
  "kernelspec": {
   "display_name": "Python 3",
   "language": "python",
   "name": "python3"
  },
  "language_info": {
   "codemirror_mode": {
    "name": "ipython",
    "version": 3
   },
   "file_extension": ".py",
   "mimetype": "text/x-python",
   "name": "python",
   "nbconvert_exporter": "python",
   "pygments_lexer": "ipython3",
   "version": "3.10.10"
  }
 },
 "nbformat": 4,
 "nbformat_minor": 2
}

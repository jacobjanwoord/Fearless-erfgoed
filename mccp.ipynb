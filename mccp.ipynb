{
 "cells": [
  {
   "cell_type": "code",
   "execution_count": 1,
   "metadata": {},
   "outputs": [],
   "source": [
    "import requests\n",
    "import pandas as pd\n",
    "import xml.etree.ElementTree as ET\n",
    "\n",
    "url = \"https://www.dhm.de/datenbank/ccp/prj_dhm_ccp/displayimg.php?laufnrid=cp\"\n",
    "kein_bild = 0\n",
    "for i in range(0, 1000):\n",
    "    img_data = requests.get(url + str(i) + \"_0&prj_short=dhm_ccp\").content\n",
    "    if img_data != kein_bild:\n",
    "        with open('images/image' + str(i) + '.jpg', 'wb') as handler:\n",
    "            handler.write(img_data)\n",
    "    if kein_bild == 0:\n",
    "        kein_bild = img_data"
   ]
  },
  {
   "cell_type": "code",
   "execution_count": null,
   "metadata": {},
   "outputs": [],
   "source": [
    "def select_images(association_obj):\n",
    "    img_prefix = \"https://images.memorix.nl/rce/thumb/1600x1600/\"\n",
    "    img_postfix = \".jpg\"\n",
    "    \n",
    "    data = []\n",
    "\n",
    "    for record in root.iter(\"record\"):\n",
    "        associations = [association.text for association in record.findall(\n",
    "        \".//Associated_subject/association.subject\")]\n",
    "        if association_obj in associations:\n",
    "            uuids = [reproduction_ref.text for reproduction_ref in record.findall(\n",
    "            \".//Reproduction/reproduction.reference\")]\n",
    "            association_name = association_obj\n",
    "            for uuid in uuids:\n",
    "                img_url = img_prefix + uuid + img_postfix\n",
    "                data.append({\n",
    "                    \"Association\": association_name,\n",
    "                    \"Url\": img_url\n",
    "                })\n",
    "        else:\n",
    "            continue\n",
    "    \n",
    "    pd.set_option('display.max_colwidth', None)\n",
    "    df = pd.DataFrame(data)\n",
    "    return df\n",
    "    \n",
    "select_images(\"meubel\")"
   ]
  },
  {
   "cell_type": "code",
   "execution_count": 2,
   "metadata": {},
   "outputs": [
    {
     "ename": "KeyboardInterrupt",
     "evalue": "",
     "output_type": "error",
     "traceback": [
      "\u001b[1;31m---------------------------------------------------------------------------\u001b[0m",
      "\u001b[1;31mKeyboardInterrupt\u001b[0m                         Traceback (most recent call last)",
      "Cell \u001b[1;32mIn[2], line 17\u001b[0m\n\u001b[0;32m     14\u001b[0m         \u001b[38;5;66;03m#img = cv2.normalize(img, None, 0.0, 1.0, cv2.NORM_MINMAX, dtype=cv2.CV_32F)\u001b[39;00m\n\u001b[0;32m     15\u001b[0m         cv2\u001b[38;5;241m.\u001b[39mimwrite(new_directory, img)\n\u001b[1;32m---> 17\u001b[0m \u001b[43mgray_scale_and_normalize\u001b[49m\u001b[43m(\u001b[49m\u001b[43m)\u001b[49m\n",
      "Cell \u001b[1;32mIn[2], line 12\u001b[0m, in \u001b[0;36mgray_scale_and_normalize\u001b[1;34m(curr_path, new_path)\u001b[0m\n\u001b[0;32m     10\u001b[0m old_directory \u001b[38;5;241m=\u001b[39m os\u001b[38;5;241m.\u001b[39mpath\u001b[38;5;241m.\u001b[39mjoin(curr_path, img_name)\n\u001b[0;32m     11\u001b[0m new_directory \u001b[38;5;241m=\u001b[39m os\u001b[38;5;241m.\u001b[39mpath\u001b[38;5;241m.\u001b[39mjoin(new_path, img_name)\n\u001b[1;32m---> 12\u001b[0m img \u001b[38;5;241m=\u001b[39m \u001b[43mcv2\u001b[49m\u001b[38;5;241;43m.\u001b[39;49m\u001b[43mimread\u001b[49m\u001b[43m(\u001b[49m\u001b[43mold_directory\u001b[49m\u001b[43m)\u001b[49m\n\u001b[0;32m     13\u001b[0m img \u001b[38;5;241m=\u001b[39m cv2\u001b[38;5;241m.\u001b[39mcvtColor(img, cv2\u001b[38;5;241m.\u001b[39mCOLOR_BGR2GRAY)\n\u001b[0;32m     14\u001b[0m \u001b[38;5;66;03m#img = cv2.normalize(img, None, 0.0, 1.0, cv2.NORM_MINMAX, dtype=cv2.CV_32F)\u001b[39;00m\n",
      "\u001b[1;31mKeyboardInterrupt\u001b[0m: "
     ]
    }
   ],
   "source": [
    "import cv2\n",
    "import os\n",
    "\n",
    "def gray_scale_and_normalize(curr_path=\"scraped_images\", new_path=\"scraped_images_grayscaled\"):\n",
    "    imgs = os.listdir(curr_path)\n",
    "    if not os.path.exists(new_path):\n",
    "        os.makedirs(new_path)\n",
    "        \n",
    "    for img_name in imgs:\n",
    "        old_directory = os.path.join(curr_path, img_name)\n",
    "        new_directory = os.path.join(new_path, img_name)\n",
    "        img = cv2.imread(old_directory)\n",
    "        img = cv2.cvtColor(img, cv2.COLOR_BGR2GRAY)\n",
    "        #img = cv2.normalize(img, None, 0.0, 1.0, cv2.NORM_MINMAX, dtype=cv2.CV_32F)\n",
    "        cv2.imwrite(new_directory, img)\n",
    "\n",
    "gray_scale_and_normalize()"
   ]
  },
  {
   "cell_type": "code",
   "execution_count": 5,
   "metadata": {},
   "outputs": [],
   "source": [
    "import cv2\n",
    "import os\n",
    "\n",
    "def remove_small_images(curr_path=\"scraped_images_grayscaled\", new_path=\"scraped_images_grayscaled_big\"):\n",
    "    imgs = os.listdir(curr_path)\n",
    "    if not os.path.exists(new_path):\n",
    "        os.makedirs(new_path)\n",
    "        \n",
    "    for img_name in imgs:\n",
    "        old_directory = os.path.join(curr_path, img_name)\n",
    "        new_directory = os.path.join(new_path, img_name)\n",
    "        img = cv2.imread(old_directory)\n",
    "        if img.size > 7500:\n",
    "            cv2.imwrite(new_directory, img)\n",
    "\n",
    "remove_small_images()"
   ]
  }
 ],
 "metadata": {
  "kernelspec": {
   "display_name": "Python 3",
   "language": "python",
   "name": "python3"
  },
  "language_info": {
   "codemirror_mode": {
    "name": "ipython",
    "version": 3
   },
   "file_extension": ".py",
   "mimetype": "text/x-python",
   "name": "python",
   "nbconvert_exporter": "python",
   "pygments_lexer": "ipython3",
   "version": "3.10.10"
  }
 },
 "nbformat": 4,
 "nbformat_minor": 2
}

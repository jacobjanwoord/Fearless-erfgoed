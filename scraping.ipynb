{
 "cells": [
  {
   "cell_type": "code",
   "execution_count": null,
   "id": "7ddd9564",
   "metadata": {},
   "outputs": [],
   "source": [
    "import requests\n",
    "import pandas as pd\n",
    "import xml.etree.ElementTree as ET\n",
    "import os"
   ]
  },
  {
   "cell_type": "code",
   "execution_count": null,
   "id": "f29265d0",
   "metadata": {},
   "outputs": [],
   "source": [
    "def select_images(association_obj):\n",
    "    img_prefix = \"https://images.memorix.nl/rce/thumb/1600x1600/\"\n",
    "    img_postfix = \".jpg\"\n",
    "    base_url = \"https://rcerijswijk.adlibhosting.com/api.wo2/wwwopac.ashx?database=collect\"\n",
    "    search_param = \"&search=all\"\n",
    "    limit = 100\n",
    "    startfrom = 0\n",
    "    \n",
    "    all_data = []\n",
    "    \n",
    "    while True:\n",
    "        url = f\"{base_url}{search_param}&limit={limit}&startfrom={startfrom}\"\n",
    "        response = requests.get(url)\n",
    "        root = ET.fromstring(response.content)\n",
    "\n",
    "        records = root.findall(\".//record\")\n",
    "        if not records:\n",
    "            break\n",
    "            \n",
    "        for record in records:\n",
    "            associations = [association.text for association in record.findall(\n",
    "            \".//Associated_subject/association.subject\")]\n",
    "            if association_obj in associations:\n",
    "                uuids = [reproduction_ref.text for reproduction_ref in record.findall(\n",
    "                \".//Reproduction/reproduction.reference\")]\n",
    "                association_name = association_obj\n",
    "                for uuid in uuids:\n",
    "                    if uuid:\n",
    "                        img_url = img_prefix + uuid + img_postfix\n",
    "                        all_data.append({\n",
    "                            \"Association\": association_name,\n",
    "                            \"Url\": img_url\n",
    "                        })\n",
    "            else:\n",
    "                continue\n",
    "                \n",
    "        startfrom += limit\n",
    "    \n",
    "    pd.set_option('display.max_colwidth', None)\n",
    "    df = pd.DataFrame(all_data)\n",
    "    return df\n",
    "    \n",
    "images = select_images(\"meubel\")"
   ]
  },
  {
   "cell_type": "code",
   "execution_count": null,
   "id": "e27bf754",
   "metadata": {},
   "outputs": [],
   "source": [
    "def download_images(df, directory_name=\"nk_collection_meubels\"):\n",
    "    if not os.path.exists(directory_name):\n",
    "        os.makedirs(directory_name)\n",
    "        \n",
    "    for idx, row in df.iterrows():\n",
    "        img_url = row[\"Url\"]\n",
    "        img_name = os.path.join(directory_name, f\"meubel_{idx+1}.jpg\")\n",
    "        response = requests.get(img_url, stream=True)\n",
    "        with open(img_name, \"wb\") as file:\n",
    "            for chunk in response.iter_content(1024):\n",
    "                file.write(chunk)\n",
    "        \n",
    "download_images(images)"
   ]
  },
  {
   "cell_type": "code",
   "execution_count": null,
   "id": "1fdfe06b",
   "metadata": {},
   "outputs": [],
   "source": [
    "import cv2\n",
    "\n",
    "def gray_scale_and_normalize(curr_path=\"nk_collection_meubels\", new_path=\"nk_collection_meubels_cleaned\"):\n",
    "    imgs = os.listdir(curr_path)\n",
    "    if not os.path.exists(new_path):\n",
    "        os.makedirs(new_path)\n",
    "        \n",
    "    for img_name in imgs:\n",
    "        old_directory = os.path.join(curr_path, img_name)\n",
    "        new_directory = os.path.join(new_path, img_name)\n",
    "        img = cv2.imread(old_directory)\n",
    "        img = cv2.cvtColor(img, cv2.COLOR_BGR2GRAY)\n",
    "        #img = cv2.normalize(img, None, 0.0, 1.0, cv2.NORM_MINMAX, dtype=cv2.CV_32F)\n",
    "        cv2.imwrite(new_directory, img)\n",
    "\n",
    "gray_scale_and_normalize()"
   ]
  },
  {
   "cell_type": "code",
   "execution_count": null,
   "id": "f0efdf4d",
   "metadata": {},
   "outputs": [],
   "source": []
  }
 ],
 "metadata": {
  "kernelspec": {
   "display_name": "Python 3 (ipykernel)",
   "language": "python",
   "name": "python3"
  },
  "language_info": {
   "codemirror_mode": {
    "name": "ipython",
    "version": 3
   },
   "file_extension": ".py",
   "mimetype": "text/x-python",
   "name": "python",
   "nbconvert_exporter": "python",
   "pygments_lexer": "ipython3",
   "version": "3.10.10"
  }
 },
 "nbformat": 4,
 "nbformat_minor": 5
}

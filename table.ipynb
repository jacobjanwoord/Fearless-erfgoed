{
 "cells": [
  {
   "cell_type": "code",
   "execution_count": 2,
   "id": "deae5892",
   "metadata": {},
   "outputs": [],
   "source": [
    "def get_table(sims):\n",
    "    \"\"\"\n",
    "    This function takes the output produced by either the compute_similarities \\ \n",
    "    or compute_similarities_testsets function, and returns a pandas dataframe/table \\\n",
    "    and also saves it in excel.\n",
    "    \"\"\"\n",
    "    \n",
    "    data = {}\n",
    "    rows = []\n",
    "    \n",
    "    mapping = {\n",
    "        \"kast_nk.jpg\": \"closet_nk.jpg\",\n",
    "        \"speeltafel_nk.png\": \"card_table_nk.png\",\n",
    "        \"tafel_nk.jpg\": \"table_nk.jpg\",\n",
    "        \"dressoir_nk.jpg\": \"dresser_nk.jpg\",\n",
    "        \"stoel_nk.jpg\": \"chair_nk.jpg\",\n",
    "        \"kast_mccp.jpg\": \"closet_mccp.jpg\",\n",
    "        \"speeltafel_mccp.png\": \"card_table_mccp.png\",\n",
    "        \"tafel_mccp.jpg\": \"table_mccp.jpg\",\n",
    "        \"dressoir_mccp.jpg\": \"dresser_mccp.jpg\",\n",
    "        \"stoel_mccp.jpg\": \"chair_mccp.jpg\",\n",
    "    }\n",
    "\n",
    "    for key, value in sims.items():\n",
    "        if mapping[key[0]] not in data:\n",
    "            data[mapping[key[0]]] = []\n",
    "        if mapping[key[1]] not in rows:\n",
    "            rows.append(mapping[key[1]])\n",
    "        value = np.round(value, 3)\n",
    "        data[mapping[key[0]]].append(value)\n",
    "        \n",
    "    data = {key[:key.rfind(\".\")]:value for key, value in sorted(data.items())}\n",
    "    rows = [row[:row.rfind(\".\")] for row in rows]\n",
    "    rows_indices_begin = list(range(len(rows)))\n",
    "    data_values = list(data.values())\n",
    "    rows_indices_end = sorted(rows_indices_begin, key=lambda i: rows[i])\n",
    "    rows = sorted(rows)\n",
    "    \n",
    "    for key, value in data.items():\n",
    "        new_value = []\n",
    "        for i in rows_indices_end:\n",
    "            new_value.append(value[i])\n",
    "            \n",
    "        data[key] = new_value\n",
    "    \n",
    "    df = pd.DataFrame(data, index=rows)\n",
    "    #df.to_excel('output.xlsx')\n",
    "    return df.T\n",
    "    \n",
    "get_table(sims)"
   ]
  },
  {
   "cell_type": "code",
   "execution_count": null,
   "id": "52f5de3a",
   "metadata": {},
   "outputs": [],
   "source": []
  }
 ],
 "metadata": {
  "kernelspec": {
   "display_name": "Python 3 (ipykernel)",
   "language": "python",
   "name": "python3"
  },
  "language_info": {
   "codemirror_mode": {
    "name": "ipython",
    "version": 3
   },
   "file_extension": ".py",
   "mimetype": "text/x-python",
   "name": "python",
   "nbconvert_exporter": "python",
   "pygments_lexer": "ipython3",
   "version": "3.10.12"
  }
 },
 "nbformat": 4,
 "nbformat_minor": 5
}

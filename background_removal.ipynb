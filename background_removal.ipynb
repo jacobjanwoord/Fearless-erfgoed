{
 "cells": [
  {
   "cell_type": "markdown",
   "metadata": {},
   "source": [
    "This code removes the background of every image in the given input directory and then stores it into output directory"
   ]
  },
  {
   "cell_type": "code",
   "execution_count": 1,
   "metadata": {},
   "outputs": [],
   "source": [
    "# Importing Required Modules \n",
    "from rembg import remove, new_session\n",
    "from PIL import Image \n",
    "import os\n",
    "\n",
    "input_directory = \"test_dataset_gray\"\n",
    "output_directory = \"test_dataset_no_back\"\n",
    "\n",
    "# removal algorithm options\n",
    "#[\"u2net\", \"u2netp\", \"u2net_human_seg\", \"u2net_cloth_seg\", \"silueta\", \"isnet-general-use\"]\n",
    "my_session = new_session(\"isnet-general-use\")\n",
    "\n",
    "# remove background from every image in input_directory and store them in output_directory\n",
    "for filename in os.listdir(input_directory):\n",
    "    f = os.path.join(input_directory, filename)\n",
    "\n",
    "    # Store path of the output image in the variable output_path \n",
    "    output_path = os.path.join(output_directory, filename)\n",
    "\n",
    "    # Processing the image \n",
    "    input = Image.open(f) \n",
    "\n",
    "    # Removing the background from the given Image \n",
    "    output = remove(input, session=my_session)\n",
    "\n",
    "    # convert to RGB \n",
    "    output_rgb = output.convert('RGB')\n",
    "\n",
    "    #Saving the image in the given path\n",
    "    output_rgb.save(output_path)"
   ]
  }
 ],
 "metadata": {
  "kernelspec": {
   "display_name": "Python 3",
   "language": "python",
   "name": "python3"
  },
  "language_info": {
   "codemirror_mode": {
    "name": "ipython",
    "version": 3
   },
   "file_extension": ".py",
   "mimetype": "text/x-python",
   "name": "python",
   "nbconvert_exporter": "python",
   "pygments_lexer": "ipython3",
   "version": "3.10.10"
  }
 },
 "nbformat": 4,
 "nbformat_minor": 2
}

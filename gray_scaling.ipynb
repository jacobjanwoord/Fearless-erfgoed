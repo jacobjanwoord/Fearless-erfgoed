{
 "cells": [
  {
   "cell_type": "code",
   "execution_count": 1,
   "id": "5dad5682",
   "metadata": {},
   "outputs": [],
   "source": [
    "import os\n",
    "import cv2"
   ]
  },
  {
   "cell_type": "code",
   "execution_count": 2,
   "id": "246f0117",
   "metadata": {},
   "outputs": [],
   "source": [
    "def gray_scale(curr_path=\"nk_collection_schilderij\", new_path=\"nk_collection_schilderij_cleaned\"):\n",
    "    \"\"\"\n",
    "    This function takes a path to the images that are not yet gray scaled, called curr_path. It also \\\n",
    "    takes a path to the directory that we are going to create to put the gray scaled images in, called \\\n",
    "    new_path. It then iteratively gray scales each image and puts it in the new directory. \n",
    "    \"\"\"\n",
    "    \n",
    "    imgs = os.listdir(curr_path)\n",
    "    if not os.path.exists(new_path):\n",
    "        os.makedirs(new_path)\n",
    "        \n",
    "    for img_name in imgs:\n",
    "        old_directory = os.path.join(curr_path, img_name)\n",
    "        new_directory = os.path.join(new_path, img_name)\n",
    "        img = cv2.imread(old_directory)\n",
    "        img = cv2.cvtColor(img, cv2.COLOR_BGR2GRAY)\n",
    "        cv2.imwrite(new_directory, img)\n",
    "\n",
    "gray_scale()"
   ]
  }
 ],
 "metadata": {
  "kernelspec": {
   "display_name": "Python 3 (ipykernel)",
   "language": "python",
   "name": "python3"
  },
  "language_info": {
   "codemirror_mode": {
    "name": "ipython",
    "version": 3
   },
   "file_extension": ".py",
   "mimetype": "text/x-python",
   "name": "python",
   "nbconvert_exporter": "python",
   "pygments_lexer": "ipython3",
   "version": "3.10.10"
  }
 },
 "nbformat": 4,
 "nbformat_minor": 5
}
